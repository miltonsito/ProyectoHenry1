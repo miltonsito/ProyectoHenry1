{
 "cells": [
  {
   "cell_type": "code",
   "execution_count": 1,
   "metadata": {},
   "outputs": [],
   "source": [
    "import pandas as pd"
   ]
  },
  {
   "cell_type": "code",
   "execution_count": 2,
   "metadata": {},
   "outputs": [],
   "source": [
    "#Importamos los CSV a utilizar\n",
    "pelis_series = pd.read_csv(\"movies_datos2.csv\")\n",
    "rating_score = pd.read_csv(\"rating_score1.csv\")\n"
   ]
  },
  {
   "cell_type": "code",
   "execution_count": 3,
   "metadata": {},
   "outputs": [],
   "source": [
    "#Unificamos los dataset\n",
    "pelis_rating = pd.concat([pelis_series,rating_score], axis=1)"
   ]
  },
  {
   "cell_type": "code",
   "execution_count": 4,
   "metadata": {},
   "outputs": [
    {
     "data": {
      "text/html": [
       "<div>\n",
       "<style scoped>\n",
       "    .dataframe tbody tr th:only-of-type {\n",
       "        vertical-align: middle;\n",
       "    }\n",
       "\n",
       "    .dataframe tbody tr th {\n",
       "        vertical-align: top;\n",
       "    }\n",
       "\n",
       "    .dataframe thead th {\n",
       "        text-align: right;\n",
       "    }\n",
       "</style>\n",
       "<table border=\"1\" class=\"dataframe\">\n",
       "  <thead>\n",
       "    <tr style=\"text-align: right;\">\n",
       "      <th></th>\n",
       "      <th>id</th>\n",
       "      <th>show_id</th>\n",
       "      <th>type</th>\n",
       "      <th>title</th>\n",
       "      <th>director</th>\n",
       "      <th>cast</th>\n",
       "      <th>country</th>\n",
       "      <th>date_added</th>\n",
       "      <th>year</th>\n",
       "      <th>rating</th>\n",
       "      <th>listed_in</th>\n",
       "      <th>description</th>\n",
       "      <th>platform</th>\n",
       "      <th>duration_int</th>\n",
       "      <th>duration_type</th>\n",
       "      <th>userId</th>\n",
       "      <th>score</th>\n",
       "      <th>timestamp</th>\n",
       "      <th>movieId</th>\n",
       "    </tr>\n",
       "  </thead>\n",
       "  <tbody>\n",
       "    <tr>\n",
       "      <th>0</th>\n",
       "      <td>as1</td>\n",
       "      <td>s1</td>\n",
       "      <td>movie</td>\n",
       "      <td>the grand seduction</td>\n",
       "      <td>don mckellar</td>\n",
       "      <td>brendan gleeson, taylor kitsch, gordon pinsent</td>\n",
       "      <td>canada</td>\n",
       "      <td>2021-03-30</td>\n",
       "      <td>2014</td>\n",
       "      <td>g</td>\n",
       "      <td>comedy, drama</td>\n",
       "      <td>a small fishing village must procure a local d...</td>\n",
       "      <td>Amazon</td>\n",
       "      <td>113.0</td>\n",
       "      <td>min</td>\n",
       "      <td>1</td>\n",
       "      <td>1.0</td>\n",
       "      <td>1425941529</td>\n",
       "      <td>as680</td>\n",
       "    </tr>\n",
       "  </tbody>\n",
       "</table>\n",
       "</div>"
      ],
      "text/plain": [
       "    id show_id   type                title      director  \\\n",
       "0  as1      s1  movie  the grand seduction  don mckellar   \n",
       "\n",
       "                                             cast country  date_added  year  \\\n",
       "0  brendan gleeson, taylor kitsch, gordon pinsent  canada  2021-03-30  2014   \n",
       "\n",
       "  rating      listed_in                                        description  \\\n",
       "0      g  comedy, drama  a small fishing village must procure a local d...   \n",
       "\n",
       "  platform  duration_int duration_type  userId  score   timestamp movieId  \n",
       "0   Amazon         113.0           min       1    1.0  1425941529   as680  "
      ]
     },
     "execution_count": 4,
     "metadata": {},
     "output_type": "execute_result"
    }
   ],
   "source": [
    "#Vemos la tabla\n",
    "pelis_rating.head(1)"
   ]
  },
  {
   "cell_type": "code",
   "execution_count": 5,
   "metadata": {},
   "outputs": [],
   "source": [
    "#Exportamos para su utilización \n",
    "pelis_rating.to_csv(\"pelis_score.or.csv\", index=False)"
   ]
  }
 ],
 "metadata": {
  "kernelspec": {
   "display_name": "Python 3",
   "language": "python",
   "name": "python3"
  },
  "language_info": {
   "codemirror_mode": {
    "name": "ipython",
    "version": 3
   },
   "file_extension": ".py",
   "mimetype": "text/x-python",
   "name": "python",
   "nbconvert_exporter": "python",
   "pygments_lexer": "ipython3",
   "version": "3.11.0"
  },
  "orig_nbformat": 4
 },
 "nbformat": 4,
 "nbformat_minor": 2
}
